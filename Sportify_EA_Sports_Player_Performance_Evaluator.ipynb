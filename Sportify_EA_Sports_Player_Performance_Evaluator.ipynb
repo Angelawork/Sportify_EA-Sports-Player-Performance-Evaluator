{
  "nbformat": 4,
  "nbformat_minor": 0,
  "metadata": {
    "colab": {
      "provenance": [],
      "include_colab_link": true
    },
    "kernelspec": {
      "name": "python3",
      "display_name": "Python 3"
    },
    "language_info": {
      "name": "python"
    }
  },
  "cells": [
    {
      "cell_type": "markdown",
      "metadata": {
        "id": "view-in-github",
        "colab_type": "text"
      },
      "source": [
        "<a href=\"https://colab.research.google.com/github/Angelawork/Sportify_EA-Sports-Player-Performance-Evaluator/blob/main/Sportify_EA_Sports_Player_Performance_Evaluator.ipynb\" target=\"_parent\"><img src=\"https://colab.research.google.com/assets/colab-badge.svg\" alt=\"Open In Colab\"/></a>"
      ]
    },
    {
      "cell_type": "markdown",
      "source": [
        "Ever wondered how your favourite soccer players would perform on the field? Enter Sportify, the revolutionary AI-driven platform behind the scenes. Fuelled by our passion for soccer, we've meticulously crafted this platform to bridge the gap between data-driven insights and the thrill of the game.\n"
      ],
      "metadata": {
        "id": "o-KbzA9Etxux"
      }
    },
    {
      "cell_type": "code",
      "execution_count": null,
      "metadata": {
        "id": "Ot9mwyidMibz"
      },
      "outputs": [],
      "source": [
        "import numpy as np\n",
        "import pandas as pd\n",
        "import seaborn as sns\n",
        "import matplotlib.pyplot as plt\n",
        "from sklearn.model_selection import train_test_split\n",
        "from sklearn import linear_model\n",
        "from sklearn.ensemble import RandomForestClassifier\n",
        "from sklearn.metrics import r2_score,confusion_matrix"
      ]
    },
    {
      "cell_type": "code",
      "source": [
        "df1 = pd.read_csv(\"/content/male_players.csv\")"
      ],
      "metadata": {
        "id": "Nk8YAdmjRa6w"
      },
      "execution_count": null,
      "outputs": []
    },
    {
      "cell_type": "code",
      "source": [
        "target_version=22.0\n",
        "df_future=df1.loc[df1['fifa_version'] == target_version]\n",
        "df=df1.loc[df1['fifa_version'] == target_version-1]\n",
        "df_future=df_future.sort_values(by='long_name').reset_index(drop=True)\n",
        "df=df.sort_values(by='long_name').reset_index(drop=True)\n",
        "\n",
        "merged_df = pd.merge(df, df_future, on='player_id', suffixes=('_year1', '_year2'))"
      ],
      "metadata": {
        "id": "nyzh8z-L1yv4"
      },
      "execution_count": null,
      "outputs": []
    },
    {
      "cell_type": "code",
      "source": [
        "merged_df"
      ],
      "metadata": {
        "id": "nWOkG8GqMZtQ",
        "colab": {
          "base_uri": "https://localhost:8080/",
          "height": 617
        },
        "outputId": "d178a00f-b373-4eec-d2e2-5a08d2155a31"
      },
      "execution_count": null,
      "outputs": [
        {
          "output_type": "execute_result",
          "data": {
            "text/plain": [
              "       player_id                                   player_url_year1  \\\n",
              "0         230212  https://sofifa.com/player/230212/a-benjamin-ch...   \n",
              "1         234290  https://sofifa.com/player/234290/aapo-halme/21...   \n",
              "2         257496  https://sofifa.com/player/257496/aaron-anderso...   \n",
              "3         237286  https://sofifa.com/player/237286/aaron-connoll...   \n",
              "4         218353  https://sofifa.com/player/218353/aaron-appinda...   \n",
              "...          ...                                                ...   \n",
              "13262     211002  https://sofifa.com/player/211002/seok-ho-hwang...   \n",
              "13263     207836  https://sofifa.com/player/207836/soon-min-hwan...   \n",
              "13264     212260  https://sofifa.com/player/212260/ui-jo-hwang/2...   \n",
              "13265     222660  https://sofifa.com/player/222660/hyun-soo-hwan...   \n",
              "13266     226380  https://sofifa.com/player/226380/hee-chan-hwan...   \n",
              "\n",
              "       fifa_version_year1  fifa_update_year1 update_as_of_year1  \\\n",
              "0                    21.0                2.0         2020-09-23   \n",
              "1                    21.0                2.0         2020-09-23   \n",
              "2                    21.0                2.0         2020-09-23   \n",
              "3                    21.0                2.0         2020-09-23   \n",
              "4                    21.0                2.0         2020-09-23   \n",
              "...                   ...                ...                ...   \n",
              "13262                21.0                2.0         2020-09-23   \n",
              "13263                21.0                2.0         2020-09-23   \n",
              "13264                21.0                2.0         2020-09-23   \n",
              "13265                21.0                2.0         2020-09-23   \n",
              "13266                21.0                2.0         2020-09-23   \n",
              "\n",
              "      short_name_year1                long_name_year1 player_positions_year1  \\\n",
              "0            Zervandro  A. Zervandro Chiamuloira Paes                 CB, LB   \n",
              "1             A. Halme                     Aapo Halme                CB, CDM   \n",
              "2          A. Anderson                 Aaron Anderson                     CB   \n",
              "3          A. Connolly         Aaron Anthony Connolly                     ST   \n",
              "4      A. Appindangoye             Aaron Appindangoye                     CB   \n",
              "...                ...                            ...                    ...   \n",
              "13262    Hwang Seok Ho                        황석호 黄锡浩                 CB, LB   \n",
              "13263   Hwang Soon Min                        황순민 金胜敏                 CM, LM   \n",
              "13264      Hwang Ui Jo                황의조 Ui Jo Hwang             ST, CF, LM   \n",
              "13265   Hwang Hyun Soo                        황현수 黄贤秀                     CB   \n",
              "13266   Hwang Hee Chan                        황희찬 黄喜灿                     ST   \n",
              "\n",
              "       overall_year1  potential_year1  ...  ldm_year2  cdm_year2  rdm_year2  \\\n",
              "0                 78               78  ...       73+2       73+2       73+2   \n",
              "1                 65               75  ...       62+2       62+2       62+2   \n",
              "2                 53               65  ...       53+2       53+2       53+2   \n",
              "3                 70               77  ...       44+2       44+2       44+2   \n",
              "4                 68               69  ...       65+2       65+2       65+2   \n",
              "...              ...              ...  ...        ...        ...        ...   \n",
              "13262             65               65  ...       64+2       64+2       64+2   \n",
              "13263             63               63  ...       59+2       59+2       59+2   \n",
              "13264             73               73  ...       57+2       57+2       57+2   \n",
              "13265             66               70  ...       56+2       56+2       56+2   \n",
              "13266             77               82  ...       52+2       52+2       52+2   \n",
              "\n",
              "      rwb_year2  lb_year2  lcb_year2  cb_year2 rcb_year2  rb_year2 gk_year2  \n",
              "0          70+2      72+2         78        78        78      72+2     18+2  \n",
              "1          56+2      57+2       65+2      65+2      65+2      57+2     17+2  \n",
              "2          49+2      51+2       57+2      57+2      57+2      51+2     12+2  \n",
              "3          46+2      43+2       39+2      39+2      39+2      43+2     18+2  \n",
              "4          63+2      64+2         69        69        69      64+2     14+2  \n",
              "...         ...       ...        ...       ...       ...       ...      ...  \n",
              "13262      62+2      62+2         67        67        67      62+2     18+2  \n",
              "13263      60+2      58+2       56+2      56+2      56+2      58+2     15+2  \n",
              "13264      60+2      58+2       54+2      54+2      54+2      58+2     17+2  \n",
              "13265      55+2      59+2       65+2      65+2      65+2      59+2     15+2  \n",
              "13266      56+2      52+2       44+2      44+2      44+2      52+2     18+2  \n",
              "\n",
              "[13267 rows x 217 columns]"
            ],
            "text/html": [
              "\n",
              "  <div id=\"df-6796aef8-0889-4898-86b4-eea7e23b2a3a\" class=\"colab-df-container\">\n",
              "    <div>\n",
              "<style scoped>\n",
              "    .dataframe tbody tr th:only-of-type {\n",
              "        vertical-align: middle;\n",
              "    }\n",
              "\n",
              "    .dataframe tbody tr th {\n",
              "        vertical-align: top;\n",
              "    }\n",
              "\n",
              "    .dataframe thead th {\n",
              "        text-align: right;\n",
              "    }\n",
              "</style>\n",
              "<table border=\"1\" class=\"dataframe\">\n",
              "  <thead>\n",
              "    <tr style=\"text-align: right;\">\n",
              "      <th></th>\n",
              "      <th>player_id</th>\n",
              "      <th>player_url_year1</th>\n",
              "      <th>fifa_version_year1</th>\n",
              "      <th>fifa_update_year1</th>\n",
              "      <th>update_as_of_year1</th>\n",
              "      <th>short_name_year1</th>\n",
              "      <th>long_name_year1</th>\n",
              "      <th>player_positions_year1</th>\n",
              "      <th>overall_year1</th>\n",
              "      <th>potential_year1</th>\n",
              "      <th>...</th>\n",
              "      <th>ldm_year2</th>\n",
              "      <th>cdm_year2</th>\n",
              "      <th>rdm_year2</th>\n",
              "      <th>rwb_year2</th>\n",
              "      <th>lb_year2</th>\n",
              "      <th>lcb_year2</th>\n",
              "      <th>cb_year2</th>\n",
              "      <th>rcb_year2</th>\n",
              "      <th>rb_year2</th>\n",
              "      <th>gk_year2</th>\n",
              "    </tr>\n",
              "  </thead>\n",
              "  <tbody>\n",
              "    <tr>\n",
              "      <th>0</th>\n",
              "      <td>230212</td>\n",
              "      <td>https://sofifa.com/player/230212/a-benjamin-ch...</td>\n",
              "      <td>21.0</td>\n",
              "      <td>2.0</td>\n",
              "      <td>2020-09-23</td>\n",
              "      <td>Zervandro</td>\n",
              "      <td>A. Zervandro Chiamuloira Paes</td>\n",
              "      <td>CB, LB</td>\n",
              "      <td>78</td>\n",
              "      <td>78</td>\n",
              "      <td>...</td>\n",
              "      <td>73+2</td>\n",
              "      <td>73+2</td>\n",
              "      <td>73+2</td>\n",
              "      <td>70+2</td>\n",
              "      <td>72+2</td>\n",
              "      <td>78</td>\n",
              "      <td>78</td>\n",
              "      <td>78</td>\n",
              "      <td>72+2</td>\n",
              "      <td>18+2</td>\n",
              "    </tr>\n",
              "    <tr>\n",
              "      <th>1</th>\n",
              "      <td>234290</td>\n",
              "      <td>https://sofifa.com/player/234290/aapo-halme/21...</td>\n",
              "      <td>21.0</td>\n",
              "      <td>2.0</td>\n",
              "      <td>2020-09-23</td>\n",
              "      <td>A. Halme</td>\n",
              "      <td>Aapo Halme</td>\n",
              "      <td>CB, CDM</td>\n",
              "      <td>65</td>\n",
              "      <td>75</td>\n",
              "      <td>...</td>\n",
              "      <td>62+2</td>\n",
              "      <td>62+2</td>\n",
              "      <td>62+2</td>\n",
              "      <td>56+2</td>\n",
              "      <td>57+2</td>\n",
              "      <td>65+2</td>\n",
              "      <td>65+2</td>\n",
              "      <td>65+2</td>\n",
              "      <td>57+2</td>\n",
              "      <td>17+2</td>\n",
              "    </tr>\n",
              "    <tr>\n",
              "      <th>2</th>\n",
              "      <td>257496</td>\n",
              "      <td>https://sofifa.com/player/257496/aaron-anderso...</td>\n",
              "      <td>21.0</td>\n",
              "      <td>2.0</td>\n",
              "      <td>2020-09-23</td>\n",
              "      <td>A. Anderson</td>\n",
              "      <td>Aaron Anderson</td>\n",
              "      <td>CB</td>\n",
              "      <td>53</td>\n",
              "      <td>65</td>\n",
              "      <td>...</td>\n",
              "      <td>53+2</td>\n",
              "      <td>53+2</td>\n",
              "      <td>53+2</td>\n",
              "      <td>49+2</td>\n",
              "      <td>51+2</td>\n",
              "      <td>57+2</td>\n",
              "      <td>57+2</td>\n",
              "      <td>57+2</td>\n",
              "      <td>51+2</td>\n",
              "      <td>12+2</td>\n",
              "    </tr>\n",
              "    <tr>\n",
              "      <th>3</th>\n",
              "      <td>237286</td>\n",
              "      <td>https://sofifa.com/player/237286/aaron-connoll...</td>\n",
              "      <td>21.0</td>\n",
              "      <td>2.0</td>\n",
              "      <td>2020-09-23</td>\n",
              "      <td>A. Connolly</td>\n",
              "      <td>Aaron Anthony Connolly</td>\n",
              "      <td>ST</td>\n",
              "      <td>70</td>\n",
              "      <td>77</td>\n",
              "      <td>...</td>\n",
              "      <td>44+2</td>\n",
              "      <td>44+2</td>\n",
              "      <td>44+2</td>\n",
              "      <td>46+2</td>\n",
              "      <td>43+2</td>\n",
              "      <td>39+2</td>\n",
              "      <td>39+2</td>\n",
              "      <td>39+2</td>\n",
              "      <td>43+2</td>\n",
              "      <td>18+2</td>\n",
              "    </tr>\n",
              "    <tr>\n",
              "      <th>4</th>\n",
              "      <td>218353</td>\n",
              "      <td>https://sofifa.com/player/218353/aaron-appinda...</td>\n",
              "      <td>21.0</td>\n",
              "      <td>2.0</td>\n",
              "      <td>2020-09-23</td>\n",
              "      <td>A. Appindangoye</td>\n",
              "      <td>Aaron Appindangoye</td>\n",
              "      <td>CB</td>\n",
              "      <td>68</td>\n",
              "      <td>69</td>\n",
              "      <td>...</td>\n",
              "      <td>65+2</td>\n",
              "      <td>65+2</td>\n",
              "      <td>65+2</td>\n",
              "      <td>63+2</td>\n",
              "      <td>64+2</td>\n",
              "      <td>69</td>\n",
              "      <td>69</td>\n",
              "      <td>69</td>\n",
              "      <td>64+2</td>\n",
              "      <td>14+2</td>\n",
              "    </tr>\n",
              "    <tr>\n",
              "      <th>...</th>\n",
              "      <td>...</td>\n",
              "      <td>...</td>\n",
              "      <td>...</td>\n",
              "      <td>...</td>\n",
              "      <td>...</td>\n",
              "      <td>...</td>\n",
              "      <td>...</td>\n",
              "      <td>...</td>\n",
              "      <td>...</td>\n",
              "      <td>...</td>\n",
              "      <td>...</td>\n",
              "      <td>...</td>\n",
              "      <td>...</td>\n",
              "      <td>...</td>\n",
              "      <td>...</td>\n",
              "      <td>...</td>\n",
              "      <td>...</td>\n",
              "      <td>...</td>\n",
              "      <td>...</td>\n",
              "      <td>...</td>\n",
              "      <td>...</td>\n",
              "    </tr>\n",
              "    <tr>\n",
              "      <th>13262</th>\n",
              "      <td>211002</td>\n",
              "      <td>https://sofifa.com/player/211002/seok-ho-hwang...</td>\n",
              "      <td>21.0</td>\n",
              "      <td>2.0</td>\n",
              "      <td>2020-09-23</td>\n",
              "      <td>Hwang Seok Ho</td>\n",
              "      <td>황석호 黄锡浩</td>\n",
              "      <td>CB, LB</td>\n",
              "      <td>65</td>\n",
              "      <td>65</td>\n",
              "      <td>...</td>\n",
              "      <td>64+2</td>\n",
              "      <td>64+2</td>\n",
              "      <td>64+2</td>\n",
              "      <td>62+2</td>\n",
              "      <td>62+2</td>\n",
              "      <td>67</td>\n",
              "      <td>67</td>\n",
              "      <td>67</td>\n",
              "      <td>62+2</td>\n",
              "      <td>18+2</td>\n",
              "    </tr>\n",
              "    <tr>\n",
              "      <th>13263</th>\n",
              "      <td>207836</td>\n",
              "      <td>https://sofifa.com/player/207836/soon-min-hwan...</td>\n",
              "      <td>21.0</td>\n",
              "      <td>2.0</td>\n",
              "      <td>2020-09-23</td>\n",
              "      <td>Hwang Soon Min</td>\n",
              "      <td>황순민 金胜敏</td>\n",
              "      <td>CM, LM</td>\n",
              "      <td>63</td>\n",
              "      <td>63</td>\n",
              "      <td>...</td>\n",
              "      <td>59+2</td>\n",
              "      <td>59+2</td>\n",
              "      <td>59+2</td>\n",
              "      <td>60+2</td>\n",
              "      <td>58+2</td>\n",
              "      <td>56+2</td>\n",
              "      <td>56+2</td>\n",
              "      <td>56+2</td>\n",
              "      <td>58+2</td>\n",
              "      <td>15+2</td>\n",
              "    </tr>\n",
              "    <tr>\n",
              "      <th>13264</th>\n",
              "      <td>212260</td>\n",
              "      <td>https://sofifa.com/player/212260/ui-jo-hwang/2...</td>\n",
              "      <td>21.0</td>\n",
              "      <td>2.0</td>\n",
              "      <td>2020-09-23</td>\n",
              "      <td>Hwang Ui Jo</td>\n",
              "      <td>황의조 Ui Jo Hwang</td>\n",
              "      <td>ST, CF, LM</td>\n",
              "      <td>73</td>\n",
              "      <td>73</td>\n",
              "      <td>...</td>\n",
              "      <td>57+2</td>\n",
              "      <td>57+2</td>\n",
              "      <td>57+2</td>\n",
              "      <td>60+2</td>\n",
              "      <td>58+2</td>\n",
              "      <td>54+2</td>\n",
              "      <td>54+2</td>\n",
              "      <td>54+2</td>\n",
              "      <td>58+2</td>\n",
              "      <td>17+2</td>\n",
              "    </tr>\n",
              "    <tr>\n",
              "      <th>13265</th>\n",
              "      <td>222660</td>\n",
              "      <td>https://sofifa.com/player/222660/hyun-soo-hwan...</td>\n",
              "      <td>21.0</td>\n",
              "      <td>2.0</td>\n",
              "      <td>2020-09-23</td>\n",
              "      <td>Hwang Hyun Soo</td>\n",
              "      <td>황현수 黄贤秀</td>\n",
              "      <td>CB</td>\n",
              "      <td>66</td>\n",
              "      <td>70</td>\n",
              "      <td>...</td>\n",
              "      <td>56+2</td>\n",
              "      <td>56+2</td>\n",
              "      <td>56+2</td>\n",
              "      <td>55+2</td>\n",
              "      <td>59+2</td>\n",
              "      <td>65+2</td>\n",
              "      <td>65+2</td>\n",
              "      <td>65+2</td>\n",
              "      <td>59+2</td>\n",
              "      <td>15+2</td>\n",
              "    </tr>\n",
              "    <tr>\n",
              "      <th>13266</th>\n",
              "      <td>226380</td>\n",
              "      <td>https://sofifa.com/player/226380/hee-chan-hwan...</td>\n",
              "      <td>21.0</td>\n",
              "      <td>2.0</td>\n",
              "      <td>2020-09-23</td>\n",
              "      <td>Hwang Hee Chan</td>\n",
              "      <td>황희찬 黄喜灿</td>\n",
              "      <td>ST</td>\n",
              "      <td>77</td>\n",
              "      <td>82</td>\n",
              "      <td>...</td>\n",
              "      <td>52+2</td>\n",
              "      <td>52+2</td>\n",
              "      <td>52+2</td>\n",
              "      <td>56+2</td>\n",
              "      <td>52+2</td>\n",
              "      <td>44+2</td>\n",
              "      <td>44+2</td>\n",
              "      <td>44+2</td>\n",
              "      <td>52+2</td>\n",
              "      <td>18+2</td>\n",
              "    </tr>\n",
              "  </tbody>\n",
              "</table>\n",
              "<p>13267 rows × 217 columns</p>\n",
              "</div>\n",
              "    <div class=\"colab-df-buttons\">\n",
              "\n",
              "  <div class=\"colab-df-container\">\n",
              "    <button class=\"colab-df-convert\" onclick=\"convertToInteractive('df-6796aef8-0889-4898-86b4-eea7e23b2a3a')\"\n",
              "            title=\"Convert this dataframe to an interactive table.\"\n",
              "            style=\"display:none;\">\n",
              "\n",
              "  <svg xmlns=\"http://www.w3.org/2000/svg\" height=\"24px\" viewBox=\"0 -960 960 960\">\n",
              "    <path d=\"M120-120v-720h720v720H120Zm60-500h600v-160H180v160Zm220 220h160v-160H400v160Zm0 220h160v-160H400v160ZM180-400h160v-160H180v160Zm440 0h160v-160H620v160ZM180-180h160v-160H180v160Zm440 0h160v-160H620v160Z\"/>\n",
              "  </svg>\n",
              "    </button>\n",
              "\n",
              "  <style>\n",
              "    .colab-df-container {\n",
              "      display:flex;\n",
              "      gap: 12px;\n",
              "    }\n",
              "\n",
              "    .colab-df-convert {\n",
              "      background-color: #E8F0FE;\n",
              "      border: none;\n",
              "      border-radius: 50%;\n",
              "      cursor: pointer;\n",
              "      display: none;\n",
              "      fill: #1967D2;\n",
              "      height: 32px;\n",
              "      padding: 0 0 0 0;\n",
              "      width: 32px;\n",
              "    }\n",
              "\n",
              "    .colab-df-convert:hover {\n",
              "      background-color: #E2EBFA;\n",
              "      box-shadow: 0px 1px 2px rgba(60, 64, 67, 0.3), 0px 1px 3px 1px rgba(60, 64, 67, 0.15);\n",
              "      fill: #174EA6;\n",
              "    }\n",
              "\n",
              "    .colab-df-buttons div {\n",
              "      margin-bottom: 4px;\n",
              "    }\n",
              "\n",
              "    [theme=dark] .colab-df-convert {\n",
              "      background-color: #3B4455;\n",
              "      fill: #D2E3FC;\n",
              "    }\n",
              "\n",
              "    [theme=dark] .colab-df-convert:hover {\n",
              "      background-color: #434B5C;\n",
              "      box-shadow: 0px 1px 3px 1px rgba(0, 0, 0, 0.15);\n",
              "      filter: drop-shadow(0px 1px 2px rgba(0, 0, 0, 0.3));\n",
              "      fill: #FFFFFF;\n",
              "    }\n",
              "  </style>\n",
              "\n",
              "    <script>\n",
              "      const buttonEl =\n",
              "        document.querySelector('#df-6796aef8-0889-4898-86b4-eea7e23b2a3a button.colab-df-convert');\n",
              "      buttonEl.style.display =\n",
              "        google.colab.kernel.accessAllowed ? 'block' : 'none';\n",
              "\n",
              "      async function convertToInteractive(key) {\n",
              "        const element = document.querySelector('#df-6796aef8-0889-4898-86b4-eea7e23b2a3a');\n",
              "        const dataTable =\n",
              "          await google.colab.kernel.invokeFunction('convertToInteractive',\n",
              "                                                    [key], {});\n",
              "        if (!dataTable) return;\n",
              "\n",
              "        const docLinkHtml = 'Like what you see? Visit the ' +\n",
              "          '<a target=\"_blank\" href=https://colab.research.google.com/notebooks/data_table.ipynb>data table notebook</a>'\n",
              "          + ' to learn more about interactive tables.';\n",
              "        element.innerHTML = '';\n",
              "        dataTable['output_type'] = 'display_data';\n",
              "        await google.colab.output.renderOutput(dataTable, element);\n",
              "        const docLink = document.createElement('div');\n",
              "        docLink.innerHTML = docLinkHtml;\n",
              "        element.appendChild(docLink);\n",
              "      }\n",
              "    </script>\n",
              "  </div>\n",
              "\n",
              "\n",
              "<div id=\"df-8ebfdbc9-2b07-4d4b-aefe-00984721d32f\">\n",
              "  <button class=\"colab-df-quickchart\" onclick=\"quickchart('df-8ebfdbc9-2b07-4d4b-aefe-00984721d32f')\"\n",
              "            title=\"Suggest charts.\"\n",
              "            style=\"display:none;\">\n",
              "\n",
              "<svg xmlns=\"http://www.w3.org/2000/svg\" height=\"24px\"viewBox=\"0 0 24 24\"\n",
              "     width=\"24px\">\n",
              "    <g>\n",
              "        <path d=\"M19 3H5c-1.1 0-2 .9-2 2v14c0 1.1.9 2 2 2h14c1.1 0 2-.9 2-2V5c0-1.1-.9-2-2-2zM9 17H7v-7h2v7zm4 0h-2V7h2v10zm4 0h-2v-4h2v4z\"/>\n",
              "    </g>\n",
              "</svg>\n",
              "  </button>\n",
              "\n",
              "<style>\n",
              "  .colab-df-quickchart {\n",
              "      --bg-color: #E8F0FE;\n",
              "      --fill-color: #1967D2;\n",
              "      --hover-bg-color: #E2EBFA;\n",
              "      --hover-fill-color: #174EA6;\n",
              "      --disabled-fill-color: #AAA;\n",
              "      --disabled-bg-color: #DDD;\n",
              "  }\n",
              "\n",
              "  [theme=dark] .colab-df-quickchart {\n",
              "      --bg-color: #3B4455;\n",
              "      --fill-color: #D2E3FC;\n",
              "      --hover-bg-color: #434B5C;\n",
              "      --hover-fill-color: #FFFFFF;\n",
              "      --disabled-bg-color: #3B4455;\n",
              "      --disabled-fill-color: #666;\n",
              "  }\n",
              "\n",
              "  .colab-df-quickchart {\n",
              "    background-color: var(--bg-color);\n",
              "    border: none;\n",
              "    border-radius: 50%;\n",
              "    cursor: pointer;\n",
              "    display: none;\n",
              "    fill: var(--fill-color);\n",
              "    height: 32px;\n",
              "    padding: 0;\n",
              "    width: 32px;\n",
              "  }\n",
              "\n",
              "  .colab-df-quickchart:hover {\n",
              "    background-color: var(--hover-bg-color);\n",
              "    box-shadow: 0 1px 2px rgba(60, 64, 67, 0.3), 0 1px 3px 1px rgba(60, 64, 67, 0.15);\n",
              "    fill: var(--button-hover-fill-color);\n",
              "  }\n",
              "\n",
              "  .colab-df-quickchart-complete:disabled,\n",
              "  .colab-df-quickchart-complete:disabled:hover {\n",
              "    background-color: var(--disabled-bg-color);\n",
              "    fill: var(--disabled-fill-color);\n",
              "    box-shadow: none;\n",
              "  }\n",
              "\n",
              "  .colab-df-spinner {\n",
              "    border: 2px solid var(--fill-color);\n",
              "    border-color: transparent;\n",
              "    border-bottom-color: var(--fill-color);\n",
              "    animation:\n",
              "      spin 1s steps(1) infinite;\n",
              "  }\n",
              "\n",
              "  @keyframes spin {\n",
              "    0% {\n",
              "      border-color: transparent;\n",
              "      border-bottom-color: var(--fill-color);\n",
              "      border-left-color: var(--fill-color);\n",
              "    }\n",
              "    20% {\n",
              "      border-color: transparent;\n",
              "      border-left-color: var(--fill-color);\n",
              "      border-top-color: var(--fill-color);\n",
              "    }\n",
              "    30% {\n",
              "      border-color: transparent;\n",
              "      border-left-color: var(--fill-color);\n",
              "      border-top-color: var(--fill-color);\n",
              "      border-right-color: var(--fill-color);\n",
              "    }\n",
              "    40% {\n",
              "      border-color: transparent;\n",
              "      border-right-color: var(--fill-color);\n",
              "      border-top-color: var(--fill-color);\n",
              "    }\n",
              "    60% {\n",
              "      border-color: transparent;\n",
              "      border-right-color: var(--fill-color);\n",
              "    }\n",
              "    80% {\n",
              "      border-color: transparent;\n",
              "      border-right-color: var(--fill-color);\n",
              "      border-bottom-color: var(--fill-color);\n",
              "    }\n",
              "    90% {\n",
              "      border-color: transparent;\n",
              "      border-bottom-color: var(--fill-color);\n",
              "    }\n",
              "  }\n",
              "</style>\n",
              "\n",
              "  <script>\n",
              "    async function quickchart(key) {\n",
              "      const quickchartButtonEl =\n",
              "        document.querySelector('#' + key + ' button');\n",
              "      quickchartButtonEl.disabled = true;  // To prevent multiple clicks.\n",
              "      quickchartButtonEl.classList.add('colab-df-spinner');\n",
              "      try {\n",
              "        const charts = await google.colab.kernel.invokeFunction(\n",
              "            'suggestCharts', [key], {});\n",
              "      } catch (error) {\n",
              "        console.error('Error during call to suggestCharts:', error);\n",
              "      }\n",
              "      quickchartButtonEl.classList.remove('colab-df-spinner');\n",
              "      quickchartButtonEl.classList.add('colab-df-quickchart-complete');\n",
              "    }\n",
              "    (() => {\n",
              "      let quickchartButtonEl =\n",
              "        document.querySelector('#df-8ebfdbc9-2b07-4d4b-aefe-00984721d32f button');\n",
              "      quickchartButtonEl.style.display =\n",
              "        google.colab.kernel.accessAllowed ? 'block' : 'none';\n",
              "    })();\n",
              "  </script>\n",
              "</div>\n",
              "    </div>\n",
              "  </div>\n"
            ]
          },
          "metadata": {},
          "execution_count": 23
        }
      ]
    },
    {
      "cell_type": "code",
      "source": [
        "merged_df= merged_df.drop_duplicates()\n",
        "\n",
        "#columns_to_keep = ['pace_year1', 'shooting_year1', 'attacking_crossing_year1', 'attacking_finishing_year1', 'attacking_heading_accuracy_year1', 'attacking_short_passing_year1']\n",
        "columns_to_keep =[\"fifa_version_year1\", \"overall_year2\", \"potential_year1\", 'value_eur_year1',\"wage_eur_year1\",\n",
        "                  \"age_year1\", \"height_cm_year1\", \"weight_kg_year1\", \"club_team_id_year1\",\n",
        "                  \"league_id_year1\", \"league_level_year1\", \"nation_team_id_year1\", \"mentality_vision_year1\"]\n",
        "\n",
        "merged_df = merged_df[columns_to_keep]\n",
        "merged_df=merged_df.dropna(axis=0)"
      ],
      "metadata": {
        "id": "7QZjiNd28X4r"
      },
      "execution_count": null,
      "outputs": []
    },
    {
      "cell_type": "code",
      "source": [
        "merged_df.dtypes"
      ],
      "metadata": {
        "colab": {
          "base_uri": "https://localhost:8080/"
        },
        "id": "KEJ58EUPNwTz",
        "outputId": "6c5f9bfc-a122-4240-fe74-7effbf067cf7"
      },
      "execution_count": null,
      "outputs": [
        {
          "output_type": "execute_result",
          "data": {
            "text/plain": [
              "fifa_version_year1        float64\n",
              "overall_year1               int64\n",
              "overall_year2               int64\n",
              "potential_year1             int64\n",
              "value_eur_year1           float64\n",
              "wage_eur_year1            float64\n",
              "age_year1                   int64\n",
              "height_cm_year1             int64\n",
              "weight_kg_year1             int64\n",
              "club_team_id_year1        float64\n",
              "league_id_year1           float64\n",
              "league_level_year1        float64\n",
              "nation_team_id_year1      float64\n",
              "mentality_vision_year1      int64\n",
              "dtype: object"
            ]
          },
          "metadata": {},
          "execution_count": 495
        }
      ]
    },
    {
      "cell_type": "code",
      "source": [
        "'''from sklearn.preprocessing import StandardScaler\n",
        "\n",
        "scaler = StandardScaler()\n",
        "df_clean[columns_to_keep] = scaler.fit_transform(df_clean[columns_to_keep])'''"
      ],
      "metadata": {
        "colab": {
          "base_uri": "https://localhost:8080/"
        },
        "id": "ia5ybNK6DyhL",
        "outputId": "f640145a-2020-478a-9f05-4b37ca366880"
      },
      "execution_count": null,
      "outputs": [
        {
          "output_type": "stream",
          "name": "stderr",
          "text": [
            "<ipython-input-296-1d2250fe20c8>:4: SettingWithCopyWarning: \n",
            "A value is trying to be set on a copy of a slice from a DataFrame.\n",
            "Try using .loc[row_indexer,col_indexer] = value instead\n",
            "\n",
            "See the caveats in the documentation: https://pandas.pydata.org/pandas-docs/stable/user_guide/indexing.html#returning-a-view-versus-a-copy\n",
            "  df_clean[columns_to_keep] = scaler.fit_transform(df_clean[columns_to_keep])\n"
          ]
        }
      ]
    },
    {
      "cell_type": "code",
      "source": [
        "X=merged_df.drop(\"overall_year2\",axis=1)\n",
        "y=merged_df[\"overall_year2\"]\n",
        "\n",
        "from sklearn.model_selection import train_test_split\n",
        "X_train, X_test, y_train, y_test = train_test_split(X, y, test_size=0.5, random_state=24)"
      ],
      "metadata": {
        "id": "2ZyXJq6xEn2n"
      },
      "execution_count": null,
      "outputs": []
    },
    {
      "cell_type": "code",
      "source": [
        "#from sklearn.ensemble import RandomForestRegressor\n",
        "\n",
        "model = RandomForestRegressor(random_state=34)\n",
        "\n",
        "model.fit(X_train, y_train)"
      ],
      "metadata": {
        "id": "N1i_EakhhEj5"
      },
      "execution_count": null,
      "outputs": []
    },
    {
      "cell_type": "code",
      "source": [
        "from sklearn.metrics import mean_absolute_error\n",
        "\n",
        "def perdict(model,X_test,y_test):\n",
        "  predictions = model.predict(X_test)\n",
        "\n",
        "  mae = mean_absolute_error(y_test, predictions)\n",
        "  print(predictions[:10])\n",
        "  print(f'Mean Absolute Error: {mae}')\n",
        "  from sklearn.metrics import mean_squared_error\n",
        "  mse = mean_squared_error(y_test, predictions)\n",
        "  print(f'Mean Squared Error: {mse:.2f}')\n",
        "  rmse = np.sqrt(mse)\n",
        "  print(f'Root Mean Squared Error: {rmse:.2f}')\n",
        "\n",
        "perdict(model,X_test,y_test)"
      ],
      "metadata": {
        "colab": {
          "base_uri": "https://localhost:8080/"
        },
        "id": "UL5VZjh2FrKr",
        "outputId": "62ca7d48-393b-4d61-ef3c-43791fbe8764"
      },
      "execution_count": null,
      "outputs": [
        {
          "output_type": "stream",
          "name": "stdout",
          "text": [
            "[74.76 81.27 70.72 77.01 71.52 77.53 67.67 74.78 75.99 71.82]\n",
            "Mean Absolute Error: 1.5864539007092198\n",
            "Mean Squared Error: 4.11\n",
            "Root Mean Squared Error: 2.03\n"
          ]
        }
      ]
    },
    {
      "cell_type": "code",
      "source": [
        "!pip install joblib"
      ],
      "metadata": {
        "colab": {
          "base_uri": "https://localhost:8080/"
        },
        "id": "u8vqL2p7RDyX",
        "outputId": "df78e7b1-e47c-4b11-954f-151fbab404d6"
      },
      "execution_count": null,
      "outputs": [
        {
          "output_type": "stream",
          "name": "stdout",
          "text": [
            "Requirement already satisfied: joblib in /usr/local/lib/python3.10/dist-packages (1.3.2)\n"
          ]
        }
      ]
    },
    {
      "cell_type": "code",
      "source": [
        "import joblib\n",
        "\n",
        "joblib.dump(model, 'random_forest_model.pkl')\n",
        "from google.colab import files\n",
        "files.download('random_forest_model.pkl')"
      ],
      "metadata": {
        "id": "ggqWXxFBQLnt"
      },
      "execution_count": null,
      "outputs": []
    },
    {
      "cell_type": "code",
      "source": [
        "import matplotlib.pyplot as plt\n",
        "from matplotlib.cm import get_cmap\n",
        "\n",
        "feature_importances = model.feature_importances_\n",
        "feature_names = X_train.columns\n",
        "\n",
        "colormap = get_cmap('viridis')\n",
        "colors = [colormap(i) for i in feature_importances]\n",
        "\n",
        "plt.figure(figsize=(10, 6))\n",
        "bars = plt.barh(feature_names, feature_importances, color=colors)\n",
        "plt.xlabel('Feature Importance')\n",
        "plt.ylabel('Feature Names')\n",
        "plt.title('Random Forest Feature Importances')\n",
        "\n",
        "\n",
        "sm = plt.cm.ScalarMappable(cmap=colormap)\n",
        "sm.set_array([])\n",
        "cbar = plt.colorbar(sm)\n",
        "cbar.set_label('Feature Importance Scale')\n",
        "\n",
        "for bar, importance in zip(bars, feature_importances):\n",
        "    plt.text(bar.get_width(), bar.get_y() + bar.get_height()/2, '{:.2f}'.format(importance),\n",
        "             va='center', ha='left', fontsize=10)\n",
        "\n",
        "plt.show()\n",
        "\n"
      ],
      "metadata": {
        "colab": {
          "base_uri": "https://localhost:8080/",
          "height": 564
        },
        "id": "_Mb0XDBeRbNX",
        "outputId": "4fc16f7a-5253-4fc7-ae78-8682a98aab8c"
      },
      "execution_count": null,
      "outputs": [
        {
          "output_type": "display_data",
          "data": {
            "text/plain": [
              "<Figure size 1000x600 with 2 Axes>"
            ],
            "image/png": "[encoded data removed]"
          },
          "metadata": {}
        }
      ]
    },
    {
      "cell_type": "markdown",
      "source": [
        "#search for input data"
      ],
      "metadata": {
        "id": "UP0kCkLXO-Ao"
      }
    },
    {
      "cell_type": "code",
      "source": [
        "import pandas as pd\n",
        "import pickle\n",
        "\n",
        "df = pd.read_csv('male_players.csv')\n",
        "model = joblib.load(\"/content/random_forest_model (1).pkl\")"
      ],
      "metadata": {
        "id": "cOZtoFpvXJJi"
      },
      "execution_count": null,
      "outputs": []
    },
    {
      "cell_type": "markdown",
      "source": [
        "#input for model\n",
        "eg.Glenn James Morris\n",
        "\n",
        "Rakan Al Kaabi\n",
        "\n",
        "Christian Bos\n",
        "\n",
        "Shahruddin Magomedaliyev\n",
        "\n",
        "Josh Keyes\n"
      ],
      "metadata": {
        "id": "3BWSpKlgPwiq"
      }
    },
    {
      "cell_type": "code",
      "source": [
        "def get_prediction(number):\n",
        "  work_rate=[]\n",
        "  output=[]\n",
        "  for _ in range(number):\n",
        "    player_name = input(\"Enter the player's name: \").strip()\n",
        "    if player_name in df['long_name'].values:\n",
        "        player_data = df.loc[df['long_name'] == player_name, ['fifa_version', 'overall', 'potential', 'value_eur',\n",
        "                                                                'wage_eur', 'age', 'height_cm', 'weight_kg',\n",
        "                                                                'club_team_id', 'league_id', 'league_level',\n",
        "                                                                'nation_team_id', 'mentality_vision',\n",
        "                                                                'power_stamina', 'work_rate']]\n",
        "\n",
        "    else:\n",
        "        print(\"Player not found in the database.\")\n",
        "        continue\n",
        "\n",
        "    df_temp=player_data[player_data['fifa_version']==24.0]\n",
        "    df_temp.fillna(0, inplace=True)\n",
        "    df_temp.columns = ['fifa_version_year1', 'overall_year1', 'potential_year1', 'value_eur_year1', 'wage_eur_year1', 'age_year1',\n",
        "          'height_cm_year1', 'weight_kg_year1', 'club_team_id_year1', 'league_id_year1', 'league_level_year1',\n",
        "          'nation_team_id_year1', 'mentality_vision_year1', 'power_stamina_year1', 'work_rate']\n",
        "    X=df_temp.drop(['work_rate','power_stamina_year1'],axis=1)\n",
        "    prediction = model.predict(X)\n",
        "    output.append(prediction)\n",
        "    work_rate.append(player_data['work_rate'].tolist())\n",
        "\n",
        "  output= [array.tolist() for array in output]\n",
        "  output=[item for sublist in output for item in sublist]\n",
        "  return output,work_rate"
      ],
      "metadata": {
        "id": "g4UT80isPYpT"
      },
      "execution_count": null,
      "outputs": []
    },
    {
      "cell_type": "code",
      "source": [
        "output,work_rate=get_prediction(3)\n",
        "print(output,work_rate)"
      ],
      "metadata": {
        "colab": {
          "base_uri": "https://localhost:8080/"
        },
        "id": "nl18yWCIZm9T",
        "outputId": "80c25649-a862-4e3e-c2a8-7166f08ebada"
      },
      "execution_count": null,
      "outputs": [
        {
          "name": "stdout",
          "output_type": "stream",
          "text": [
            "Enter the player's name: Glenn James Morris\n"
          ]
        },
        {
          "output_type": "stream",
          "name": "stderr",
          "text": [
            "<ipython-input-561-ef729b47b421>:18: SettingWithCopyWarning: \n",
            "A value is trying to be set on a copy of a slice from a DataFrame\n",
            "\n",
            "See the caveats in the documentation: https://pandas.pydata.org/pandas-docs/stable/user_guide/indexing.html#returning-a-view-versus-a-copy\n",
            "  df_temp.fillna(0, inplace=True)\n"
          ]
        },
        {
          "output_type": "stream",
          "name": "stdout",
          "text": [
            "Enter the player's name: Rakan Al Kaabi\n",
            "Enter the player's name: Josh Keyes\n",
            "[62.07, 62.47, 59.62] [['Medium/Medium', 'Medium/Medium', 'Medium/Medium', 'Medium/Medium', 'Medium/Medium', 'Medium/Medium', 'Medium/Medium', 'Medium/Medium', 'Medium/Medium', 'Medium/Medium'], ['Low/High'], ['High/Medium']]\n"
          ]
        }
      ]
    },
    {
      "cell_type": "markdown",
      "source": [
        "# search algorithm + output model prediction + output work_rate, taking inputs as a list of names\n"
      ],
      "metadata": {
        "id": "CDMCdeKulTmB"
      }
    },
    {
      "cell_type": "code",
      "source": [
        "def get_prediction(inputs):\n",
        "  work_rate=[]\n",
        "  output=[]\n",
        "  for i in range(len(inputs)):\n",
        "    player_name = inputs[i].strip()\n",
        "    if player_name in df['long_name'].values:\n",
        "        player_data = df.loc[df['long_name'] == player_name, ['fifa_version', 'overall', 'potential', 'value_eur',\n",
        "                                                                'wage_eur', 'age', 'height_cm', 'weight_kg',\n",
        "                                                                'club_team_id', 'league_id', 'league_level',\n",
        "                                                                'nation_team_id', 'mentality_vision',\n",
        "                                                                'power_stamina', 'work_rate']]\n",
        "\n",
        "    else:\n",
        "        print(\"Player not found in the database.\")\n",
        "        continue\n",
        "\n",
        "    df_temp=player_data[player_data['fifa_version']==24.0]\n",
        "    df_temp.fillna(0, inplace=True)\n",
        "    df_temp.columns = ['fifa_version_year1', 'overall_year1', 'potential_year1', 'value_eur_year1', 'wage_eur_year1', 'age_year1',\n",
        "          'height_cm_year1', 'weight_kg_year1', 'club_team_id_year1', 'league_id_year1', 'league_level_year1',\n",
        "          'nation_team_id_year1', 'mentality_vision_year1', 'power_stamina_year1', 'work_rate']\n",
        "    X=df_temp.drop(['work_rate','power_stamina_year1'],axis=1)\n",
        "    prediction = model.predict(X)\n",
        "    output.append([player_name,prediction])\n",
        "    work_rate.append(player_data['work_rate'].tolist())\n",
        "  for sublist in output:\n",
        "    sublist[1] = float(sublist[1][0])\n",
        "  result_string = '\\n'.join(['{} {}'.format(sublist[0], sublist[1]) for sublist in output])\n",
        "  #output= [array.tolist() for array in output]\n",
        "  #output=[item for sublist in output for item in sublist]\n",
        "  return result_string"
      ],
      "metadata": {
        "id": "8qzvhUP2iJAT"
      },
      "execution_count": null,
      "outputs": []
    },
    {
      "cell_type": "markdown",
      "source": [
        "# random sketch below\n"
      ],
      "metadata": {
        "id": "4w4yJGqYwKxR"
      }
    },
    {
      "cell_type": "code",
      "source": [
        "\n",
        "get_prediction(['Glenn James Morris','Rakan Al Kaabi','Christian Bos','Shahruddin Magomedaliyev','Josh Keyes'])"
      ],
      "metadata": {
        "colab": {
          "base_uri": "https://localhost:8080/",
          "height": 122
        },
        "id": "Cydr8If9iWfe",
        "outputId": "5c213a24-b3ab-460b-cfe6-325c418ef984"
      },
      "execution_count": null,
      "outputs": [
        {
          "output_type": "stream",
          "name": "stderr",
          "text": [
            "<ipython-input-50-60e01c47a937>:18: SettingWithCopyWarning: \n",
            "A value is trying to be set on a copy of a slice from a DataFrame\n",
            "\n",
            "See the caveats in the documentation: https://pandas.pydata.org/pandas-docs/stable/user_guide/indexing.html#returning-a-view-versus-a-copy\n",
            "  df_temp.fillna(0, inplace=True)\n"
          ]
        },
        {
          "output_type": "execute_result",
          "data": {
            "text/plain": [
              "'Glenn James Morris 62.07\\nRakan Al Kaabi 62.47\\nChristian Bos 61.06\\nShahruddin Magomedaliyev 70.48\\nJosh Keyes 59.62'"
            ],
            "application/vnd.google.colaboratory.intrinsic+json": {
              "type": "string"
            }
          },
          "metadata": {},
          "execution_count": 51
        }
      ]
    },
    {
      "cell_type": "code",
      "source": [
        "pip install gradio scikit-learn"
      ],
      "metadata": {
        "id": "-2kayN0Z4Ug7"
      },
      "execution_count": null,
      "outputs": []
    },
    {
      "cell_type": "code",
      "source": [
        "import gradio as gr\n",
        "import pickle\n",
        "from sklearn.ensemble import RandomForestRegressor\n",
        "\n",
        "iface = gr.Interface(fn=get_prediction, inputs='text', outputs=\"text\")\n",
        "\n",
        "# Launch the Gradio interface\n",
        "iface.launch()\n"
      ],
      "metadata": {
        "colab": {
          "base_uri": "https://localhost:8080/",
          "height": 616
        },
        "id": "P6DitEuJ4NRU",
        "outputId": "191c9749-a5b7-4b0d-f3d1-14eedb0c37a1"
      },
      "execution_count": null,
      "outputs": [
        {
          "output_type": "stream",
          "name": "stdout",
          "text": [
            "Colab notebook detected. To show errors in colab notebook, set debug=True in launch()\n",
            "Note: opening Chrome Inspector may crash demo inside Colab notebooks.\n",
            "\n",
            "To create a public link, set `share=True` in `launch()`.\n"
          ]
        },
        {
          "output_type": "display_data",
          "data": {
            "text/plain": [
              "<IPython.core.display.Javascript object>"
            ],
            "application/javascript": [
              "(async (port, path, width, height, cache, element) => {\n",
              "                        if (!google.colab.kernel.accessAllowed && !cache) {\n",
              "                            return;\n",
              "                        }\n",
              "                        element.appendChild(document.createTextNode(''));\n",
              "                        const url = await google.colab.kernel.proxyPort(port, {cache});\n",
              "\n",
              "                        const external_link = document.createElement('div');\n",
              "                        external_link.innerHTML = `\n",
              "                            <div style=\"font-family: monospace; margin-bottom: 0.5rem\">\n",
              "                                Running on <a href=${new URL(path, url).toString()} target=\"_blank\">\n",
              "                                    https://localhost:${port}${path}\n",
              "                                </a>\n",
              "                            </div>\n",
              "                        `;\n",
              "                        element.appendChild(external_link);\n",
              "\n",
              "                        const iframe = document.createElement('iframe');\n",
              "                        iframe.src = new URL(path, url).toString();\n",
              "                        iframe.height = height;\n",
              "                        iframe.allow = \"autoplay; camera; microphone; clipboard-read; clipboard-write;\"\n",
              "                        iframe.width = width;\n",
              "                        iframe.style.border = 0;\n",
              "                        element.appendChild(iframe);\n",
              "                    })(7867, \"/\", \"100%\", 500, false, window.element)"
            ]
          },
          "metadata": {}
        },
        {
          "output_type": "execute_result",
          "data": {
            "text/plain": []
          },
          "metadata": {},
          "execution_count": 60
        }
      ]
    },
    {
      "cell_type": "code",
      "source": [
        "from sklearn.linear_model import LogisticRegression\n",
        "from sklearn.tree import DecisionTreeClassifier\n",
        "from sklearn.ensemble import RandomForestClassifier\n",
        "from sklearn.neighbors import KNeighborsClassifier\n",
        "\n",
        "models = [\n",
        "    (\"Logistic Regression\", LogisticRegression(random_state=42)),\n",
        "    (\"Decision Tree\", DecisionTreeClassifier(random_state=42)),\n",
        "    (\"Random Forest\", RandomForestClassifier(random_state=42)),\n",
        "    (\"K Nearest Neghbours\", KNeighborsClassifier(n_neighbors=2))\n",
        "]\n",
        "\n",
        "results = {}\n",
        "\n",
        "for model_name, model in models:\n",
        "    print(f\"model_name: {model_name}\")\n",
        "    print(\"test accuracy: {} \".format(model.fit(x_train, y_train).score(x_test, y_test)))\n",
        "    print(\"train accuracy: {} \".format(model.fit(x_train, y_train).score(x_train, y_train)))"
      ],
      "metadata": {
        "id": "MslbSc5rkkIP"
      },
      "execution_count": null,
      "outputs": []
    },
    {
      "cell_type": "code",
      "source": [
        "from sklearn.linear_model import LogisticRegression\n",
        "from sklearn.tree import DecisionTreeClassifier\n",
        "from sklearn.ensemble import RandomForestClassifier\n",
        "from sklearn.neighbors import KNeighborsClassifier\n",
        "\n",
        "models = [\n",
        "    (\"Logistic Regression\", LogisticRegression(random_state=42)),\n",
        "    (\"Decision Tree\", DecisionTreeClassifier(random_state=42)),\n",
        "    (\"Random Forest\", RandomForestClassifier(random_state=42)),\n",
        "    (\"K Nearest Neghbours\", KNeighborsClassifier(n_neighbors=2))\n",
        "]\n",
        "\n",
        "results = {}\n",
        "\n",
        "for model_name, model in models:\n",
        "    print(f\"model_name: {model_name}\")\n",
        "    print(\"test accuracy: {} \".format(model.fit(x_train, y_train).score(x_test, y_test)))\n",
        "    print(\"train accuracy: {} \".format(model.fit(x_train, y_train).score(x_train, y_train)))\n"
      ],
      "metadata": {
        "id": "UXK73sfOPjj8"
      },
      "execution_count": null,
      "outputs": []
    },
    {
      "cell_type": "code",
      "source": [
        "import xgboost as xgb\n",
        "model = xgb.XGBClassifier()"
      ],
      "metadata": {
        "id": "Is4qDoh-RjuY"
      },
      "execution_count": null,
      "outputs": []
    },
    {
      "cell_type": "code",
      "source": [
        "y_pred = model .fit(x_train, y_train).predict(x_test)\n",
        "cm = confusion_matrix(y_test,y_pred)"
      ],
      "metadata": {
        "id": "RuOmu6LhQlbn"
      },
      "execution_count": null,
      "outputs": []
    },
    {
      "cell_type": "code",
      "source": [
        "ax= plt.subplot()\n",
        "sns.heatmap(cm, annot=True, fmt='g', ax=ax);\n",
        "ax.set_xlabel('Predicted labels');ax.set_ylabel('True labels');\n",
        "ax.set_title('Confusion Matrix');\n",
        "ax.xaxis.set_ticklabels(['stroke','not_stroke']); ax.yaxis.set_ticklabels(['stroke','not_stroke']);"
      ],
      "metadata": {
        "id": "9wpP5oxWQwys"
      },
      "execution_count": null,
      "outputs": []
    },
    {
      "cell_type": "code",
      "source": [
        "import sklearn\n",
        "sklearn.__version__"
      ],
      "metadata": {
        "colab": {
          "base_uri": "https://localhost:8080/",
          "height": 35
        },
        "id": "GEzpSat53ijT",
        "outputId": "fa79db5b-6521-43fb-b618-654f2daf94e7"
      },
      "execution_count": null,
      "outputs": [
        {
          "output_type": "execute_result",
          "data": {
            "text/plain": [
              "'1.2.2'"
            ],
            "application/vnd.google.colaboratory.intrinsic+json": {
              "type": "string"
            }
          },
          "metadata": {},
          "execution_count": 1
        }
      ]
    }
  ]
}